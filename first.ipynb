{
 "cells": [
  {
   "cell_type": "markdown",
   "metadata": {},
   "source": [
    "My First Notabook  "
   ]
  },
  {
   "cell_type": "code",
   "execution_count": 3,
   "metadata": {},
   "outputs": [
    {
     "name": "stdout",
     "output_type": "stream",
     "text": [
      "uhsnamiH \n"
     ]
    }
   ],
   "source": [
    "# write a python programme that take user input name and print the reverse order \n",
    "\n",
    "name = input(\"Enter Your name: \")\n",
    "rev = \" \" # used to store the reverse value \n",
    "for i in name: # using for loop for to reverse the \n",
    " rev = i+rev\n",
    "print(rev)"
   ]
  },
  {
   "cell_type": "code",
   "execution_count": 4,
   "metadata": {},
   "outputs": [
    {
     "name": "stdout",
     "output_type": "stream",
     "text": [
      "<class 'int'> 10\n",
      "<class 'float'> 10.0 56\n",
      "<class 'complex'>\n"
     ]
    }
   ],
   "source": [
    "# 2 python programme that take an input number from the user , convert the different numeric data type and display the convert value\n",
    "\n",
    "a = int (input(\" Enter any value \")) # user input for integer\n",
    "b = input(\"Enter any value \") # user input for float\n",
    "c = input(\"Enter any value \") # user input for complex\n",
    "print(type(a),a) # type casting integer\n",
    "\n",
    "b = float(a)  # type casting float\n",
    "print(type(b),b,c)\n",
    "\n",
    "c = complex(a) # type casting complex\n",
    "print(type(c))"
   ]
  },
  {
   "cell_type": "code",
   "execution_count": 5,
   "metadata": {},
   "outputs": [
    {
     "name": "stdout",
     "output_type": "stream",
     "text": [
      "Area of rectangle : 50.0\n"
     ]
    }
   ],
   "source": [
    "# create the script the area of the rectangle \n",
    "\n",
    "num_1 = float(input(\"Enter length of area \")) # input the value of area of length\n",
    "num_2 = float(input(\"Enter width of area \")) # input the value of area of width\n",
    "area = num_1 * num_2 \n",
    "print(\"Area of rectangle :\" , area)  # print the total area using print function"
   ]
  },
  {
   "cell_type": "code",
   "execution_count": 6,
   "metadata": {},
   "outputs": [
    {
     "name": "stdout",
     "output_type": "stream",
     "text": [
      "area of the rectangle is 50.00\n"
     ]
    }
   ],
   "source": [
    "# Modify the rectangle area program to format the output so that it displays the area with two decimal places.\n",
    "\n",
    "area = num_1 *num_2\n",
    "float_area = format(area,\".2f\")\n",
    "print(f\"area of the rectangle is {float_area}\")"
   ]
  },
  {
   "cell_type": "code",
   "execution_count": 7,
   "metadata": {},
   "outputs": [
    {
     "name": "stdout",
     "output_type": "stream",
     "text": [
      "Average is  20.000000 : \n"
     ]
    }
   ],
   "source": [
    "#  Write a Python script that takes three numbers as input and prints their average using the % method for string formatting.\n",
    "\n",
    "# Also, use the print function to display a message that states, \"The average of the three numbers is: [calculated average]\".\n",
    "a = int(input(\"Enter any number \"))\n",
    "b = int(input(\"Enter any number \"))\n",
    "c = int(input(\"Enter any number \"))\n",
    "\n",
    "avg = (a+b+c)/3\n",
    "\n",
    "print(\"Average is % 2f : \" % avg)"
   ]
  },
  {
   "cell_type": "code",
   "execution_count": 12,
   "metadata": {},
   "outputs": [
    {
     "name": "stdout",
     "output_type": "stream",
     "text": [
      "this is pos ++ value  10\n",
      "this is pos ++ value  10\n",
      "this is pos ++ value  10\n"
     ]
    }
   ],
   "source": [
    "#  Write a Python program that asks the user for a number and determines whether it is positive, negative, or zero.\n",
    "\n",
    " # Implement a loop that continues to ask the user for a number until they enter 'exit'.\n",
    "\n",
    "#  Use break to exit the loop and continue to prompt for a new number if the input is not 'exit'.\n",
    "\n",
    "for i in range(1,4):\n",
    " num = int(input(\"Enter any number\"))\n",
    " if(num==0):\n",
    "     print(\"this value is zero\",a)\n",
    " elif(num>0):\n",
    "     print(\"this is pos ++ value \",a)\n",
    " elif(num<0):\n",
    "     print(\"this is neg -- value \",a)\n",
    " else:\n",
    "     print(\"Enter the valid number \")"
   ]
  },
  {
   "cell_type": "code",
   "execution_count": 14,
   "metadata": {},
   "outputs": [
    {
     "name": "stdout",
     "output_type": "stream",
     "text": [
      "30 and 10 both are even\n"
     ]
    }
   ],
   "source": [
    "# Create a Python script that takes two numbers as input and prints whether both numbers are even, odd, or one of each using relational and logical operators.\n",
    "\n",
    "first_value= int(input(\"Enter the first value: \"))\n",
    "second_value= int(input(\"Enter the second value: \"))\n",
    "\n",
    "if (first_value % 2 ==0) and (second_value % 2 == 0):\n",
    "    print(f\"{first_value} and {second_value} both are even\")\n",
    "elif (first_value % 2 !=0) and (second_value % 2 != 0):\n",
    "    print(f\"{first_value} and {second_value} both are odd\")\n",
    "else:\n",
    "    if first_value % 2 ==0:\n",
    "        print(f\"{first_value} is even and {second_value} is odd\")\n",
    "    else:\n",
    "        print(f\"{first_value} is odd and {second_value} is even\")"
   ]
  },
  {
   "cell_type": "code",
   "execution_count": 15,
   "metadata": {},
   "outputs": [
    {
     "name": "stdout",
     "output_type": "stream",
     "text": [
      "Binary: 0b110010\n",
      "Octal: 0o62\n",
      "Hexadecimal: 0x32\n"
     ]
    }
   ],
   "source": [
    "def convert(num):\n",
    "    # Converting to binary \n",
    "    binary = bin(num)\n",
    "\n",
    "    # Converting to octal \n",
    "    octal = oct(num)\n",
    "\n",
    "    # Converting to hexadecimal     \n",
    "    hexadecimal = hex(num)\n",
    "\n",
    "    print(f\"Binary: {binary}\")\n",
    "    print(f\"Octal: {octal}\")\n",
    "    print(f\"Hexadecimal: {hexadecimal}\")\n",
    "\n",
    "\n",
    "   \n",
    "num = int(input(\"Enter an integer: \"))\n",
    "if num < 0:\n",
    "    print(\"Please enter a non-negative integer.\")\n",
    "else:\n",
    "    convert(num)"
   ]
  }
 ],
 "metadata": {
  "kernelspec": {
   "display_name": "Python 3",
   "language": "python",
   "name": "python3"
  },
  "language_info": {
   "codemirror_mode": {
    "name": "ipython",
    "version": 3
   },
   "file_extension": ".py",
   "mimetype": "text/x-python",
   "name": "python",
   "nbconvert_exporter": "python",
   "pygments_lexer": "ipython3",
   "version": "3.12.3"
  }
 },
 "nbformat": 4,
 "nbformat_minor": 2
}
